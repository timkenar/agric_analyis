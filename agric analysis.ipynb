{
 "cells": [
  {
   "cell_type": "code",
   "execution_count": 1,
   "id": "16839ea5",
   "metadata": {},
   "outputs": [],
   "source": [
    "import pandas as pd\n"
   ]
  },
  {
   "cell_type": "code",
   "execution_count": 1,
   "id": "9aa05665",
   "metadata": {
    "scrolled": false
   },
   "outputs": [
    {
     "ename": "NameError",
     "evalue": "name 'pd' is not defined",
     "output_type": "error",
     "traceback": [
      "\u001b[1;31m---------------------------------------------------------------------------\u001b[0m",
      "\u001b[1;31mNameError\u001b[0m                                 Traceback (most recent call last)",
      "Cell \u001b[1;32mIn[1], line 1\u001b[0m\n\u001b[1;32m----> 1\u001b[0m df \u001b[38;5;241m=\u001b[39m pd\u001b[38;5;241m.\u001b[39mread_csv(\u001b[38;5;124m'\u001b[39m\u001b[38;5;124magric_data.csv\u001b[39m\u001b[38;5;124m'\u001b[39m)\n",
      "\u001b[1;31mNameError\u001b[0m: name 'pd' is not defined"
     ]
    }
   ],
   "source": [
    "df = pd.read_csv('agric_data.csv')\n"
   ]
  },
  {
   "cell_type": "code",
   "execution_count": 12,
   "id": "4e8c8961",
   "metadata": {
    "scrolled": true
   },
   "outputs": [
    {
     "data": {
      "text/html": [
       "<div>\n",
       "<style scoped>\n",
       "    .dataframe tbody tr th:only-of-type {\n",
       "        vertical-align: middle;\n",
       "    }\n",
       "\n",
       "    .dataframe tbody tr th {\n",
       "        vertical-align: top;\n",
       "    }\n",
       "\n",
       "    .dataframe thead th {\n",
       "        text-align: right;\n",
       "    }\n",
       "</style>\n",
       "<table border=\"1\" class=\"dataframe\">\n",
       "  <thead>\n",
       "    <tr style=\"text-align: right;\">\n",
       "      <th></th>\n",
       "      <th>Field_ID</th>\n",
       "      <th>Elevation</th>\n",
       "      <th>Rainfall</th>\n",
       "      <th>Min_temperature_C</th>\n",
       "      <th>Max_temperature_C</th>\n",
       "      <th>pH</th>\n",
       "      <th>Pollution_level</th>\n",
       "      <th>Plot_size</th>\n",
       "      <th>Annual_yield</th>\n",
       "      <th>Crop_type</th>\n",
       "    </tr>\n",
       "  </thead>\n",
       "  <tbody>\n",
       "    <tr>\n",
       "      <th>0</th>\n",
       "      <td>1162</td>\n",
       "      <td>494.95615</td>\n",
       "      <td>1507.6</td>\n",
       "      <td>-5.4</td>\n",
       "      <td>31.0</td>\n",
       "      <td>6.859436</td>\n",
       "      <td>0.007034</td>\n",
       "      <td>3.6</td>\n",
       "      <td>1.617421</td>\n",
       "      <td>coffee</td>\n",
       "    </tr>\n",
       "    <tr>\n",
       "      <th>1</th>\n",
       "      <td>5108</td>\n",
       "      <td>663.73390</td>\n",
       "      <td>581.0</td>\n",
       "      <td>-4.7</td>\n",
       "      <td>30.9</td>\n",
       "      <td>5.603219</td>\n",
       "      <td>0.289643</td>\n",
       "      <td>4.2</td>\n",
       "      <td>2.532497</td>\n",
       "      <td>potato</td>\n",
       "    </tr>\n",
       "    <tr>\n",
       "      <th>2</th>\n",
       "      <td>3504</td>\n",
       "      <td>396.87990</td>\n",
       "      <td>1715.1</td>\n",
       "      <td>-6.1</td>\n",
       "      <td>31.7</td>\n",
       "      <td>5.774116</td>\n",
       "      <td>0.000409</td>\n",
       "      <td>2.6</td>\n",
       "      <td>1.262207</td>\n",
       "      <td>banana</td>\n",
       "    </tr>\n",
       "    <tr>\n",
       "      <th>3</th>\n",
       "      <td>5351</td>\n",
       "      <td>594.80370</td>\n",
       "      <td>1748.0</td>\n",
       "      <td>-4.3</td>\n",
       "      <td>33.6</td>\n",
       "      <td>6.477415</td>\n",
       "      <td>0.088777</td>\n",
       "      <td>7.9</td>\n",
       "      <td>4.351564</td>\n",
       "      <td>wheat</td>\n",
       "    </tr>\n",
       "    <tr>\n",
       "      <th>4</th>\n",
       "      <td>905</td>\n",
       "      <td>609.49800</td>\n",
       "      <td>1395.8</td>\n",
       "      <td>-4.5</td>\n",
       "      <td>31.3</td>\n",
       "      <td>5.419586</td>\n",
       "      <td>0.050023</td>\n",
       "      <td>10.8</td>\n",
       "      <td>5.034791</td>\n",
       "      <td>cassava</td>\n",
       "    </tr>\n",
       "  </tbody>\n",
       "</table>\n",
       "</div>"
      ],
      "text/plain": [
       "   Field_ID  Elevation  Rainfall  Min_temperature_C  Max_temperature_C  \\\n",
       "0      1162  494.95615    1507.6               -5.4               31.0   \n",
       "1      5108  663.73390     581.0               -4.7               30.9   \n",
       "2      3504  396.87990    1715.1               -6.1               31.7   \n",
       "3      5351  594.80370    1748.0               -4.3               33.6   \n",
       "4       905  609.49800    1395.8               -4.5               31.3   \n",
       "\n",
       "         pH  Pollution_level  Plot_size  Annual_yield Crop_type  \n",
       "0  6.859436         0.007034        3.6      1.617421    coffee  \n",
       "1  5.603219         0.289643        4.2      2.532497    potato  \n",
       "2  5.774116         0.000409        2.6      1.262207    banana  \n",
       "3  6.477415         0.088777        7.9      4.351564     wheat  \n",
       "4  5.419586         0.050023       10.8      5.034791   cassava  "
      ]
     },
     "execution_count": 12,
     "metadata": {},
     "output_type": "execute_result"
    }
   ],
   "source": [
    "df.head()"
   ]
  },
  {
   "cell_type": "code",
   "execution_count": 13,
   "id": "9e567e1c",
   "metadata": {},
   "outputs": [],
   "source": [
    "unique_crop_types = df[\"Crop_type\"].unique()"
   ]
  },
  {
   "cell_type": "code",
   "execution_count": 14,
   "id": "f51295ee",
   "metadata": {},
   "outputs": [
    {
     "name": "stdout",
     "output_type": "stream",
     "text": [
      "Unique Crop Types: ['coffee' 'potato' 'banana' 'wheat' 'cassava' 'maize' 'tea' 'rice']\n"
     ]
    }
   ],
   "source": [
    "print(\"Unique Crop Types:\", unique_crop_types)"
   ]
  },
  {
   "cell_type": "code",
   "execution_count": 15,
   "id": "aaddf8de",
   "metadata": {},
   "outputs": [],
   "source": [
    "num_unique_crop_types = len(unique_crop_types)"
   ]
  },
  {
   "cell_type": "code",
   "execution_count": 16,
   "id": "4f9e8eff",
   "metadata": {},
   "outputs": [
    {
     "name": "stdout",
     "output_type": "stream",
     "text": [
      "Number of Unique Crop Types: 8\n"
     ]
    }
   ],
   "source": [
    "print(\"Number of Unique Crop Types:\", num_unique_crop_types)"
   ]
  },
  {
   "cell_type": "code",
   "execution_count": 17,
   "id": "75bcf835",
   "metadata": {},
   "outputs": [],
   "source": [
    "wheat_data= df[df[\"Crop_type\"] == \"wheat\"]"
   ]
  },
  {
   "cell_type": "code",
   "execution_count": 18,
   "id": "95e08d04",
   "metadata": {},
   "outputs": [],
   "source": [
    "max_yield_wheat = wheat_data[\"Annual_yield\"].max()"
   ]
  },
  {
   "cell_type": "code",
   "execution_count": 19,
   "id": "ca7aa6a7",
   "metadata": {},
   "outputs": [],
   "source": [
    "max_yield_wheat_rounded = round(max_yield_wheat, 2)"
   ]
  },
  {
   "cell_type": "code",
   "execution_count": 20,
   "id": "4dea2be6",
   "metadata": {},
   "outputs": [
    {
     "name": "stdout",
     "output_type": "stream",
     "text": [
      "Maximum Annual Yield for Wheat: 8.99\n"
     ]
    }
   ],
   "source": [
    "print(\"Maximum Annual Yield for Wheat:\", max_yield_wheat_rounded)"
   ]
  },
  {
   "cell_type": "code",
   "execution_count": 21,
   "id": "0dc76d9c",
   "metadata": {},
   "outputs": [
    {
     "name": "stdout",
     "output_type": "stream",
     "text": [
      "Total Rainfall for Crop Types with Average Pollution Level > 0.2:\n",
      "Crop_type\n",
      "cassava    178709.1\n",
      "coffee     148849.5\n",
      "maize       57184.0\n",
      "potato      93860.2\n",
      "tea        210650.5\n",
      "wheat      252706.4\n",
      "Name: Rainfall, dtype: float64\n"
     ]
    }
   ],
   "source": [
    "filtered_data = df.groupby(\"Crop_type\").filter(lambda x: x[\"Pollution_level\"].mean() > 0.2)\n",
    "\n",
    "total_rainfall = filtered_data.groupby(\"Crop_type\")[\"Rainfall\"].sum()\n",
    "\n",
    "print(\"Total Rainfall for Crop Types with Average Pollution Level > 0.2:\")\n",
    "print(total_rainfall)\n"
   ]
  },
  {
   "cell_type": "code",
   "execution_count": 22,
   "id": "6b89f5c1",
   "metadata": {},
   "outputs": [
    {
     "name": "stdout",
     "output_type": "stream",
     "text": [
      "941959.7000000001\n"
     ]
    }
   ],
   "source": [
    "sum_of_total_rainfall=[178709.1, 148849.5, 57184.0, 93860.2, 210650.5, 252706.4]\n",
    "print(sum(sum_of_total_rainfall))"
   ]
  },
  {
   "cell_type": "code",
   "execution_count": 23,
   "id": "d0686538",
   "metadata": {},
   "outputs": [],
   "source": [
    "def calculate_temperature_range(field_id):\n",
    "    field_data = df[df[\"Field_ID\"] == field_id]\n",
    "    temperature_range = field_data[\"Max_temperature_C\"].values[0] - field_data[\"Min_temperature_C\"].values[0]\n",
    "    return temperature_range"
   ]
  },
  {
   "cell_type": "code",
   "execution_count": 24,
   "id": "bc2295af",
   "metadata": {},
   "outputs": [],
   "source": [
    "field_ids_to_call = [1458, 1895, 5443]"
   ]
  },
  {
   "cell_type": "code",
   "execution_count": 25,
   "id": "eda2041d",
   "metadata": {},
   "outputs": [
    {
     "name": "stdout",
     "output_type": "stream",
     "text": [
      "Temperature Range for Field_ID 1458: 40.7 C\n",
      "Temperature Range for Field_ID 1895: 35.7 C\n",
      "Temperature Range for Field_ID 5443: 33.4 C\n"
     ]
    }
   ],
   "source": [
    "for field_id in field_ids_to_call:\n",
    "    result = calculate_temperature_range(field_id)\n",
    "    print(f\"Temperature Range for Field_ID {field_id}: {result} C\")"
   ]
  },
  {
   "cell_type": "code",
   "execution_count": 35,
   "id": "f1de218b",
   "metadata": {},
   "outputs": [
    {
     "name": "stdout",
     "output_type": "stream",
     "text": [
      "rice\n"
     ]
    }
   ],
   "source": [
    "#The following code identifies the crop type with the lowest average minimum temperature.\n",
    "a = df['Crop_type'].unique()\n",
    "\n",
    "b = float('inf')\n",
    "\n",
    "c = ''\n",
    "\n",
    "for crop in a:\n",
    "\n",
    "    d = df[df['Crop_type'] == crop]['Min_temperature_C'].mean()\n",
    "\n",
    "    if d < b:\n",
    "\n",
    "        b = d\n",
    "\n",
    "        c = crop\n",
    "\n",
    "print(c)"
   ]
  },
  {
   "cell_type": "code",
   "execution_count": 45,
   "id": "0084f09c",
   "metadata": {},
   "outputs": [
    {
     "name": "stdout",
     "output_type": "stream",
     "text": [
      "Total Plot Size for Plots with pH < 5.5: 1731.8999999999999\n"
     ]
    }
   ],
   "source": [
    "#To calculate the total plot size for plots where the pH is less than 5.5.\n",
    "filtered_data = df[df['pH'] < 5.5]\n",
    "\n",
    "# Calculate the total plot size for the filtered data\n",
    "total_plot_size = filtered_data['Plot_size'].sum()\n",
    "\n",
    "# Display the result\n",
    "print(\"Total Plot Size for Plots with pH < 5.5:\", total_plot_size)"
   ]
  },
  {
   "cell_type": "code",
   "execution_count": 48,
   "id": "7ca7ccb7",
   "metadata": {},
   "outputs": [],
   "source": [
    "filtered_data = df[(df['Min_temperature_C'] < -5) & (df['Max_temperature_C'] > 30)]"
   ]
  },
  {
   "cell_type": "code",
   "execution_count": 49,
   "id": "063a9ae9",
   "metadata": {},
   "outputs": [
    {
     "name": "stdout",
     "output_type": "stream",
     "text": [
      "Number of Rows in Filtered Dataset: 319\n"
     ]
    }
   ],
   "source": [
    "# Get the number of rows in the filtered dataset\n",
    "num_rows_filtered = len(filtered_data)\n",
    "\n",
    "# Display the result\n",
    "print(\"Number of Rows in Filtered Dataset:\", num_rows_filtered)"
   ]
  },
  {
   "cell_type": "code",
   "execution_count": 50,
   "id": "67d00fa2",
   "metadata": {},
   "outputs": [],
   "source": [
    "#Using Numpy, we calculate the standard deviation of the 'Rainfall' for plots\n",
    "#where the 'Plot_size' is larger than the median plot size of the dataset (round to 2 decimal places).\n",
    "import numpy as np\n",
    "import pandas as pd"
   ]
  },
  {
   "cell_type": "code",
   "execution_count": 51,
   "id": "22d86f4d",
   "metadata": {},
   "outputs": [
    {
     "name": "stdout",
     "output_type": "stream",
     "text": [
      "Standard Deviation of Rainfall for Plots with Size > Median Size: 469.62\n"
     ]
    }
   ],
   "source": [
    "# Calculate the median plot size\n",
    "median_plot_size = df['Plot_size'].median()\n",
    "\n",
    "# Filter rows where 'Plot_size' is larger than the median plot size\n",
    "filtered_data = df[df['Plot_size'] > median_plot_size]\n",
    "\n",
    "# Calculate the standard deviation of 'Rainfall' for the filtered data\n",
    "rainfall_std_dev = np.std(filtered_data['Rainfall'])\n",
    "\n",
    "# Round the result to 2 decimal places\n",
    "rainfall_std_dev_rounded = round(rainfall_std_dev, 2)\n",
    "\n",
    "# Display the result\n",
    "print(\"Standard Deviation of Rainfall for Plots with Size > Median Size:\", rainfall_std_dev_rounded)"
   ]
  },
  {
   "cell_type": "code",
   "execution_count": 52,
   "id": "f066c9bf",
   "metadata": {},
   "outputs": [
    {
     "name": "stdout",
     "output_type": "stream",
     "text": [
      "Concatenated String: 30.ice\n"
     ]
    }
   ],
   "source": [
    "# Find the most common 'Max_temperature_C'\n",
    "most_common_max_temp = df['Max_temperature_C'].mode().iloc[0]\n",
    "\n",
    "# Get the first three digits of the most common 'Max_temperature_C'\n",
    "first_three_digits = str(most_common_max_temp)[:3]\n",
    "\n",
    "# Find the least common 'Crop_type'\n",
    "least_common_crop_type = df['Crop_type'].value_counts().idxmin()\n",
    "\n",
    "# Get the last three letters of the least common 'Crop_type'\n",
    "last_three_letters = least_common_crop_type[-3:]\n",
    "\n",
    "# Concatenate the results\n",
    "result_string = first_three_digits + last_three_letters\n",
    "\n",
    "# Display the result\n",
    "print(\"Concatenated String:\", result_string)"
   ]
  },
  {
   "cell_type": "code",
   "execution_count": 53,
   "id": "fbf2644f",
   "metadata": {},
   "outputs": [],
   "source": [
    "import seaborn as sns\n",
    "import matplotlib.pyplot as plt"
   ]
  },
  {
   "cell_type": "code",
   "execution_count": 54,
   "id": "263eecb7",
   "metadata": {
    "scrolled": true
   },
   "outputs": [
    {
     "data": {
      "image/png": "[encoded data removed]",
      "text/plain": [
       "<Figure size 1200x600 with 1 Axes>"
      ]
     },
     "metadata": {},
     "output_type": "display_data"
    }
   ],
   "source": [
    "\n",
    "elevation_bins = [float('-inf'), 300, 600, float('inf')]\n",
    "elevation_labels = ['Low (< 300m)', 'Medium (300m - 600m)', 'High (> 600m)']\n",
    "\n",
    "# Categorize the data based on elevation range\n",
    "df['Elevation_Category'] = pd.cut(df['Elevation'], bins=elevation_bins, labels=elevation_labels)\n",
    "\n",
    "# To Create a violin plot\n",
    "plt.figure(figsize=(12, 6))\n",
    "sns.violinplot(x='Elevation_Category', y='Annual_yield', data=df, palette='viridis')\n",
    "plt.title('Distribution of Annual Yield Across Elevation Ranges')\n",
    "plt.xlabel('Elevation Range')\n",
    "plt.ylabel('Annual Yield')\n",
    "plt.show()"
   ]
  },
  {
   "cell_type": "code",
   "execution_count": 55,
   "id": "167f4ebe",
   "metadata": {},
   "outputs": [
    {
     "name": "stdout",
     "output_type": "stream",
     "text": [
      "Sum of Integer Values for Each Unique Crop Type: 42\n"
     ]
    }
   ],
   "source": [
    "def calculate_crop_type_sum(crop_types, index=0):\n",
    "    if index == len(crop_types):\n",
    "        return 0\n",
    "    else:\n",
    "        crop_type_length = len(crop_types[index])\n",
    "        return crop_type_length + calculate_crop_type_sum(crop_types, index + 1)\n",
    "\n",
    "# Get unique crop types from the dataset\n",
    "unique_crop_types = df['Crop_type'].unique()\n",
    "\n",
    "# Calculate the sum of integer values for each unique crop type\n",
    "crop_type_sum = calculate_crop_type_sum(unique_crop_types)\n",
    "\n",
    "# Display the result\n",
    "print(\"Sum of Integer Values for Each Unique Crop Type:\", crop_type_sum)"
   ]
  },
  {
   "cell_type": "code",
   "execution_count": 56,
   "id": "16ccdcf3",
   "metadata": {},
   "outputs": [],
   "source": [
    "from scipy.stats import ttest_ind"
   ]
  },
  {
   "cell_type": "code",
   "execution_count": 57,
   "id": "f65a5ca5",
   "metadata": {},
   "outputs": [
    {
     "name": "stdout",
     "output_type": "stream",
     "text": [
      "P-value: 0.598\n"
     ]
    }
   ],
   "source": [
    "coffee_yield = df[df['Crop_type'] == 'coffee']['Annual_yield']\n",
    "banana_yield = df[df['Crop_type'] == 'banana']['Annual_yield']\n",
    "\n",
    "# Perform t-test\n",
    "t_statistic, p_value = ttest_ind(coffee_yield, banana_yield, equal_var=False)\n",
    "\n",
    "# Display the p-value rounded to three decimal places\n",
    "print(\"P-value:\", round(p_value, 3))"
   ]
  },
  {
   "cell_type": "code",
   "execution_count": 61,
   "id": "3aba69ea",
   "metadata": {},
   "outputs": [
    {
     "data": {
      "text/plain": [
       "'e'"
      ]
     },
     "execution_count": 61,
     "metadata": {},
     "output_type": "execute_result"
    }
   ],
   "source": [
    "S = [['him', 'sell'], [90, 28, 43]]\n",
    "\n",
    "S[0][1][1]\n"
   ]
  },
  {
   "cell_type": "code",
   "execution_count": null,
   "id": "78d5a177",
   "metadata": {},
   "outputs": [],
   "source": []
  }
 ],
 "metadata": {
  "kernelspec": {
   "display_name": "Python 3 (ipykernel)",
   "language": "python",
   "name": "python3"
  },
  "language_info": {
   "codemirror_mode": {
    "name": "ipython",
    "version": 3
   },
   "file_extension": ".py",
   "mimetype": "text/x-python",
   "name": "python",
   "nbconvert_exporter": "python",
   "pygments_lexer": "ipython3",
   "version": "3.11.5"
  }
 },
 "nbformat": 4,
 "nbformat_minor": 5
}
